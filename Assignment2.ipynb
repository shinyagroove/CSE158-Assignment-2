{
 "cells": [
  {
   "cell_type": "code",
   "execution_count": 28,
   "metadata": {},
   "outputs": [],
   "source": [
    "import pandas as pd\n",
    "import numpy as np\n",
    "import json\n",
    "import seaborn as sns"
   ]
  },
  {
   "cell_type": "code",
   "execution_count": 5,
   "metadata": {},
   "outputs": [],
   "source": [
    "file = './data/Musical_Instruments.jsonl'\n",
    "dataset = []\n",
    "with open(file, 'r') as fp:\n",
    "    for line in fp:\n",
    "        dataset.append(json.loads(line.strip()))"
   ]
  },
  {
   "cell_type": "code",
   "execution_count": null,
   "metadata": {},
   "outputs": [],
   "source": [
    "df = pd.read_json('./data/Musical_Instruments.jsonl', lines=True)"
   ]
  },
  {
   "cell_type": "code",
   "execution_count": 25,
   "metadata": {},
   "outputs": [
    {
     "data": {
      "text/html": [
       "<div>\n",
       "<style scoped>\n",
       "    .dataframe tbody tr th:only-of-type {\n",
       "        vertical-align: middle;\n",
       "    }\n",
       "\n",
       "    .dataframe tbody tr th {\n",
       "        vertical-align: top;\n",
       "    }\n",
       "\n",
       "    .dataframe thead th {\n",
       "        text-align: right;\n",
       "    }\n",
       "</style>\n",
       "<table border=\"1\" class=\"dataframe\">\n",
       "  <thead>\n",
       "    <tr style=\"text-align: right;\">\n",
       "      <th></th>\n",
       "      <th>rating</th>\n",
       "      <th>title</th>\n",
       "      <th>text</th>\n",
       "      <th>images</th>\n",
       "      <th>asin</th>\n",
       "      <th>parent_asin</th>\n",
       "      <th>user_id</th>\n",
       "      <th>timestamp</th>\n",
       "      <th>helpful_vote</th>\n",
       "      <th>verified_purchase</th>\n",
       "    </tr>\n",
       "  </thead>\n",
       "  <tbody>\n",
       "    <tr>\n",
       "      <th>0</th>\n",
       "      <td>5</td>\n",
       "      <td>Five Stars</td>\n",
       "      <td>Great headphones, comfortable and sound is goo...</td>\n",
       "      <td>[]</td>\n",
       "      <td>B003LPTAYI</td>\n",
       "      <td>B003LPTAYI</td>\n",
       "      <td>AGKASBHYZPGTEPO6LWZPVJWB2BVA</td>\n",
       "      <td>2016-01-13 02:03:06.000</td>\n",
       "      <td>0</td>\n",
       "      <td>True</td>\n",
       "    </tr>\n",
       "    <tr>\n",
       "      <th>1</th>\n",
       "      <td>3</td>\n",
       "      <td>nice sound.  pedal failed after less than 1 year</td>\n",
       "      <td>I like the piano.. but the sustain pedal faile...</td>\n",
       "      <td>[]</td>\n",
       "      <td>B00723436A</td>\n",
       "      <td>B06XP6TDVY</td>\n",
       "      <td>AGCI7FAH4GL5FI65HYLKWTMFZ2CQ</td>\n",
       "      <td>2019-05-22 23:22:45.290</td>\n",
       "      <td>2</td>\n",
       "      <td>True</td>\n",
       "    </tr>\n",
       "    <tr>\n",
       "      <th>2</th>\n",
       "      <td>4</td>\n",
       "      <td>okay</td>\n",
       "      <td>pretty good overall.  I like it.  the controll...</td>\n",
       "      <td>[]</td>\n",
       "      <td>B0040FJ27S</td>\n",
       "      <td>B0040FJ27S</td>\n",
       "      <td>AGCI7FAH4GL5FI65HYLKWTMFZ2CQ</td>\n",
       "      <td>2013-11-20 01:54:42.000</td>\n",
       "      <td>0</td>\n",
       "      <td>True</td>\n",
       "    </tr>\n",
       "    <tr>\n",
       "      <th>3</th>\n",
       "      <td>3</td>\n",
       "      <td>Easy to return.</td>\n",
       "      <td>Too bad it didn't work. At least the return pr...</td>\n",
       "      <td>[]</td>\n",
       "      <td>B00191WVF6</td>\n",
       "      <td>B00WJ3HL5I</td>\n",
       "      <td>AEM663T6XHZFWLODF4US2RCOCUSA</td>\n",
       "      <td>2020-12-04 04:21:33.671</td>\n",
       "      <td>0</td>\n",
       "      <td>True</td>\n",
       "    </tr>\n",
       "    <tr>\n",
       "      <th>4</th>\n",
       "      <td>5</td>\n",
       "      <td>Good product despite tight bolt.</td>\n",
       "      <td>Good and sturdy but the bolt was hell to get o...</td>\n",
       "      <td>[]</td>\n",
       "      <td>B07T9NM5QR</td>\n",
       "      <td>B07T9NM5QR</td>\n",
       "      <td>AFJTRBXMURLHS5EGNXLUHDHIZRFQ</td>\n",
       "      <td>2021-06-02 01:03:05.255</td>\n",
       "      <td>0</td>\n",
       "      <td>False</td>\n",
       "    </tr>\n",
       "  </tbody>\n",
       "</table>\n",
       "</div>"
      ],
      "text/plain": [
       "   rating                                             title  \\\n",
       "0       5                                        Five Stars   \n",
       "1       3  nice sound.  pedal failed after less than 1 year   \n",
       "2       4                                              okay   \n",
       "3       3                                   Easy to return.   \n",
       "4       5                  Good product despite tight bolt.   \n",
       "\n",
       "                                                text images        asin  \\\n",
       "0  Great headphones, comfortable and sound is goo...     []  B003LPTAYI   \n",
       "1  I like the piano.. but the sustain pedal faile...     []  B00723436A   \n",
       "2  pretty good overall.  I like it.  the controll...     []  B0040FJ27S   \n",
       "3  Too bad it didn't work. At least the return pr...     []  B00191WVF6   \n",
       "4  Good and sturdy but the bolt was hell to get o...     []  B07T9NM5QR   \n",
       "\n",
       "  parent_asin                       user_id               timestamp  \\\n",
       "0  B003LPTAYI  AGKASBHYZPGTEPO6LWZPVJWB2BVA 2016-01-13 02:03:06.000   \n",
       "1  B06XP6TDVY  AGCI7FAH4GL5FI65HYLKWTMFZ2CQ 2019-05-22 23:22:45.290   \n",
       "2  B0040FJ27S  AGCI7FAH4GL5FI65HYLKWTMFZ2CQ 2013-11-20 01:54:42.000   \n",
       "3  B00WJ3HL5I  AEM663T6XHZFWLODF4US2RCOCUSA 2020-12-04 04:21:33.671   \n",
       "4  B07T9NM5QR  AFJTRBXMURLHS5EGNXLUHDHIZRFQ 2021-06-02 01:03:05.255   \n",
       "\n",
       "   helpful_vote  verified_purchase  \n",
       "0             0               True  \n",
       "1             2               True  \n",
       "2             0               True  \n",
       "3             0               True  \n",
       "4             0              False  "
      ]
     },
     "execution_count": 25,
     "metadata": {},
     "output_type": "execute_result"
    }
   ],
   "source": [
    "df.head()"
   ]
  },
  {
   "cell_type": "code",
   "execution_count": 23,
   "metadata": {},
   "outputs": [
    {
     "data": {
      "text/plain": [
       "rating                        int64\n",
       "title                        object\n",
       "text                         object\n",
       "images                       object\n",
       "asin                         object\n",
       "parent_asin                  object\n",
       "user_id                      object\n",
       "timestamp            datetime64[ns]\n",
       "helpful_vote                  int64\n",
       "verified_purchase              bool\n",
       "dtype: object"
      ]
     },
     "execution_count": 23,
     "metadata": {},
     "output_type": "execute_result"
    }
   ],
   "source": [
    "df.dtypes"
   ]
  },
  {
   "cell_type": "code",
   "execution_count": 62,
   "metadata": {},
   "outputs": [
    {
     "data": {
      "text/plain": [
       "[{'small_image_url': 'https://images-na.ssl-images-amazon.com/images/I/71-Nm7DAvtL._SL256_.jpg',\n",
       "  'medium_image_url': 'https://images-na.ssl-images-amazon.com/images/I/71-Nm7DAvtL._SL800_.jpg',\n",
       "  'large_image_url': 'https://images-na.ssl-images-amazon.com/images/I/71-Nm7DAvtL.jpg',\n",
       "  'attachment_type': 'IMAGE'},\n",
       " {'small_image_url': 'https://images-na.ssl-images-amazon.com/images/I/71enU8Ja9CL._SL256_.jpg',\n",
       "  'medium_image_url': 'https://images-na.ssl-images-amazon.com/images/I/71enU8Ja9CL._SL800_.jpg',\n",
       "  'large_image_url': 'https://images-na.ssl-images-amazon.com/images/I/71enU8Ja9CL.jpg',\n",
       "  'attachment_type': 'IMAGE'},\n",
       " {'small_image_url': 'https://images-na.ssl-images-amazon.com/images/I/8114QHQmn0L._SL256_.jpg',\n",
       "  'medium_image_url': 'https://images-na.ssl-images-amazon.com/images/I/8114QHQmn0L._SL800_.jpg',\n",
       "  'large_image_url': 'https://images-na.ssl-images-amazon.com/images/I/8114QHQmn0L.jpg',\n",
       "  'attachment_type': 'IMAGE'}]"
      ]
     },
     "execution_count": 62,
     "metadata": {},
     "output_type": "execute_result"
    }
   ],
   "source": [
    "df[df['images'].apply(len)!=0]['images'].iloc[0]"
   ]
  },
  {
   "cell_type": "code",
   "execution_count": 46,
   "metadata": {},
   "outputs": [
    {
     "data": {
      "text/plain": [
       "rating               0\n",
       "title                0\n",
       "text                 0\n",
       "images               0\n",
       "asin                 0\n",
       "parent_asin          0\n",
       "user_id              0\n",
       "timestamp            0\n",
       "helpful_vote         0\n",
       "verified_purchase    0\n",
       "dtype: int64"
      ]
     },
     "execution_count": 46,
     "metadata": {},
     "output_type": "execute_result"
    }
   ],
   "source": [
    "df.isna().sum()"
   ]
  },
  {
   "cell_type": "code",
   "execution_count": 44,
   "metadata": {},
   "outputs": [
    {
     "data": {
      "text/plain": [
       "<Axes: xlabel='rating', ylabel='Count'>"
      ]
     },
     "execution_count": 44,
     "metadata": {},
     "output_type": "execute_result"
    },
    {
     "data": {
      "image/png": "[encoded data removed]",
      "text/plain": [
       "<Figure size 640x480 with 1 Axes>"
      ]
     },
     "metadata": {},
     "output_type": "display_data"
    }
   ],
   "source": [
    "sns.histplot(df, x='rating', bins=5)"
   ]
  },
  {
   "cell_type": "code",
   "execution_count": 63,
   "metadata": {},
   "outputs": [
    {
     "data": {
      "text/plain": [
       "<Axes: xlabel='verified_purchase', ylabel='count'>"
      ]
     },
     "execution_count": 63,
     "metadata": {},
     "output_type": "execute_result"
    },
    {
     "data": {
      "image/png": "[encoded data removed]",
      "text/plain": [
       "<Figure size 640x480 with 1 Axes>"
      ]
     },
     "metadata": {},
     "output_type": "display_data"
    }
   ],
   "source": [
    "sns.countplot(df, x='verified_purchase')"
   ]
  },
  {
   "cell_type": "code",
   "execution_count": null,
   "metadata": {},
   "outputs": [],
   "source": []
  }
 ],
 "metadata": {
  "kernelspec": {
   "display_name": "base",
   "language": "python",
   "name": "python3"
  },
  "language_info": {
   "codemirror_mode": {
    "name": "ipython",
    "version": 3
   },
   "file_extension": ".py",
   "mimetype": "text/x-python",
   "name": "python",
   "nbconvert_exporter": "python",
   "pygments_lexer": "ipython3",
   "version": "3.12.3"
  }
 },
 "nbformat": 4,
 "nbformat_minor": 2
}
